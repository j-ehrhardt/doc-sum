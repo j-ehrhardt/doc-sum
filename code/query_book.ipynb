{
 "cells": [
  {
   "metadata": {},
   "cell_type": "markdown",
   "source": [
    "# Doc-Sum Notebook\n",
    "\n",
    "This notebook is a low level interface for the `sum_openai` script.\n",
    "Follow the instructions above the cells and run each cell individually sum your corpus.\n",
    "Make sure that your corpus is saved in the `data` directory."
   ],
   "id": "d46f41bb8004a8f1"
  },
  {
   "metadata": {},
   "cell_type": "code",
   "source": "from sum_openai import *",
   "id": "7abb89593c9fb7b4",
   "outputs": [],
   "execution_count": null
  },
  {
   "metadata": {},
   "cell_type": "markdown",
   "source": [
    "## Define your Queries\n",
    "\n",
    "Adapt your queries below, if necessary."
   ],
   "id": "7b0d6596302b4fb2"
  },
  {
   "metadata": {},
   "cell_type": "code",
   "source": [
    "# This string contains your main query objective that you want to compare the individual documents on\n",
    "query_objective = '<ENTER-YOUR-QUERY-OBJECTIVE-HERE>'\n",
    "model_name = 'gpt-4o-mini'"
   ],
   "id": "cbac588f9dbe0949",
   "outputs": [],
   "execution_count": null
  },
  {
   "metadata": {},
   "cell_type": "code",
   "source": [
    "# The system_prompt pre-prompts the GPT instance\n",
    "system_prompt = (f'You are a helpful assistant that helps me in crawling large pdf corpora, extracting information given the topics and questions you get asked. '\n",
    "                 f'You do not hallucinate. You are precise, concise and base your summaries only on information you extracted from the documents.')\n",
    "\n",
    "# This user prompt defines the task of extracting the information from the individual documents\n",
    "crawl_user_prompt = f'Summarize the main arguments of the given text under the following perspective {query_objective}.'\n",
    "\n",
    "# This user prompt defines the task of summarizing the individual document excerpts\n",
    "sum_user_prompt = (f'You are given summaries of multiple documents. The summaries are separated by headlines which indicate the document title. '\n",
    "                   f'Your task is to extract similarities from the individual summaries and point them out under the perspective of {query_objective}. '\n",
    "                   f'Mark from which document summary you withdrew the information')\n"
   ],
   "id": "3bbaa867c5bca5c",
   "outputs": [],
   "execution_count": null
  },
  {
   "metadata": {},
   "cell_type": "markdown",
   "source": [
    "## Run the Pipeline\n",
    "\n",
    "Run the pipeline to sum your corpus."
   ],
   "id": "7c27ee96f68237be"
  },
  {
   "metadata": {},
   "cell_type": "code",
   "source": [
    "answer_dict, model = crawl_pdfs(data_dir='../data', system_prompt=system_prompt, user_prompt=crawl_user_prompt, model_name=model_name)\n",
    "response = sum_answers(answer_dict=answer_dict, model=model, system_prompt=system_prompt, user_prompt=sum_user_prompt)\n",
    "summary_to_file(response=response, query_objective=query_objective)\n",
    "\n",
    "print(response)"
   ],
   "id": "a065e28fe94ccbed",
   "outputs": [],
   "execution_count": null
  }
 ],
 "metadata": {
  "kernelspec": {
   "display_name": "Python 3",
   "language": "python",
   "name": "python3"
  },
  "language_info": {
   "codemirror_mode": {
    "name": "ipython",
    "version": 2
   },
   "file_extension": ".py",
   "mimetype": "text/x-python",
   "name": "python",
   "nbconvert_exporter": "python",
   "pygments_lexer": "ipython2",
   "version": "2.7.6"
  }
 },
 "nbformat": 4,
 "nbformat_minor": 5
}
